{
 "cells": [
  {
   "cell_type": "markdown",
   "metadata": {},
   "source": [
    "LAB: Visualización de datos usando Matplotlib\n",
    "=========================================="
   ]
  },
  {
   "cell_type": "code",
   "execution_count": 2,
   "metadata": {},
   "outputs": [],
   "source": [
    "## Importar librerias\n",
    "import numpy as np\n",
    "import matplotlib.pyplot as plt\n",
    "import matplotlib as mpl\n",
    "import pandas\n",
    "%matplotlib inline"
   ]
  },
  {
   "cell_type": "code",
   "execution_count": 3,
   "metadata": {},
   "outputs": [],
   "source": [
    "# Carga de archivo\n",
    "datos = pandas.read_csv('indicadores-mundiales.csv',encoding='latin-1')"
   ]
  },
  {
   "cell_type": "code",
   "execution_count": 11,
   "metadata": {},
   "outputs": [],
   "source": [
    "# Se genera  tabla para  los puntos 1,2 y 3\n",
    "region_poblacion = datos.groupby('Region').sum()[['Poblacion 0-14','Poblacion 15-64', 'Poblacion 65+',]]/100"
   ]
  },
  {
   "cell_type": "code",
   "execution_count": 12,
   "metadata": {},
   "outputs": [
    {
     "data": {
      "text/html": [
       "<div>\n",
       "<style scoped>\n",
       "    .dataframe tbody tr th:only-of-type {\n",
       "        vertical-align: middle;\n",
       "    }\n",
       "\n",
       "    .dataframe tbody tr th {\n",
       "        vertical-align: top;\n",
       "    }\n",
       "\n",
       "    .dataframe thead th {\n",
       "        text-align: right;\n",
       "    }\n",
       "</style>\n",
       "<table border=\"1\" class=\"dataframe\">\n",
       "  <thead>\n",
       "    <tr style=\"text-align: right;\">\n",
       "      <th></th>\n",
       "      <th>Poblacion 0-14</th>\n",
       "      <th>Poblacion 15-64</th>\n",
       "      <th>Poblacion 65+</th>\n",
       "    </tr>\n",
       "    <tr>\n",
       "      <th>Region</th>\n",
       "      <th></th>\n",
       "      <th></th>\n",
       "      <th></th>\n",
       "    </tr>\n",
       "  </thead>\n",
       "  <tbody>\n",
       "    <tr>\n",
       "      <th>Asia</th>\n",
       "      <td>53.186</td>\n",
       "      <td>106.687</td>\n",
       "      <td>10.130</td>\n",
       "    </tr>\n",
       "    <tr>\n",
       "      <th>Europa</th>\n",
       "      <td>37.802</td>\n",
       "      <td>138.306</td>\n",
       "      <td>28.905</td>\n",
       "    </tr>\n",
       "    <tr>\n",
       "      <th>Las Americas</th>\n",
       "      <td>53.755</td>\n",
       "      <td>109.018</td>\n",
       "      <td>12.231</td>\n",
       "    </tr>\n",
       "    <tr>\n",
       "      <th>Oceania</th>\n",
       "      <td>17.848</td>\n",
       "      <td>31.331</td>\n",
       "      <td>2.825</td>\n",
       "    </tr>\n",
       "    <tr>\n",
       "      <th>Oriente Medio</th>\n",
       "      <td>17.547</td>\n",
       "      <td>32.511</td>\n",
       "      <td>1.942</td>\n",
       "    </tr>\n",
       "    <tr>\n",
       "      <th>africa</th>\n",
       "      <td>111.362</td>\n",
       "      <td>144.527</td>\n",
       "      <td>9.117</td>\n",
       "    </tr>\n",
       "  </tbody>\n",
       "</table>\n",
       "</div>"
      ],
      "text/plain": [
       "               Poblacion 0-14  Poblacion 15-64  Poblacion 65+\n",
       "Region                                                       \n",
       "Asia                   53.186          106.687         10.130\n",
       "Europa                 37.802          138.306         28.905\n",
       "Las Americas           53.755          109.018         12.231\n",
       "Oceania                17.848           31.331          2.825\n",
       "Oriente Medio          17.547           32.511          1.942\n",
       "africa                111.362          144.527          9.117"
      ]
     },
     "execution_count": 12,
     "metadata": {},
     "output_type": "execute_result"
    }
   ],
   "source": [
    "region_poblacion"
   ]
  },
  {
   "cell_type": "code",
   "execution_count": 13,
   "metadata": {},
   "outputs": [],
   "source": [
    "datos['fecha'] = pandas.to_datetime(datos['Ano'])"
   ]
  },
  {
   "cell_type": "code",
   "execution_count": 20,
   "metadata": {},
   "outputs": [],
   "source": [
    "# Se genera la tabla para los puntos 4 y 5\n",
    "region_gasto = datos.groupby([datos['fecha'].dt.year,'Region']).mean()[['Gasto en salud (per capita)',\n",
    "                                                               'Poblacion 0-14','Poblacion 15-64', 'Poblacion 65+']]"
   ]
  },
  {
   "cell_type": "code",
   "execution_count": 21,
   "metadata": {},
   "outputs": [
    {
     "data": {
      "text/html": [
       "<div>\n",
       "<style scoped>\n",
       "    .dataframe tbody tr th:only-of-type {\n",
       "        vertical-align: middle;\n",
       "    }\n",
       "\n",
       "    .dataframe tbody tr th {\n",
       "        vertical-align: top;\n",
       "    }\n",
       "\n",
       "    .dataframe thead th {\n",
       "        text-align: right;\n",
       "    }\n",
       "</style>\n",
       "<table border=\"1\" class=\"dataframe\">\n",
       "  <thead>\n",
       "    <tr style=\"text-align: right;\">\n",
       "      <th></th>\n",
       "      <th></th>\n",
       "      <th>Gasto en salud (per capita)</th>\n",
       "      <th>Poblacion 0-14</th>\n",
       "      <th>Poblacion 15-64</th>\n",
       "      <th>Poblacion 65+</th>\n",
       "    </tr>\n",
       "    <tr>\n",
       "      <th>fecha</th>\n",
       "      <th>Region</th>\n",
       "      <th></th>\n",
       "      <th></th>\n",
       "      <th></th>\n",
       "      <th></th>\n",
       "    </tr>\n",
       "  </thead>\n",
       "  <tbody>\n",
       "    <tr>\n",
       "      <th rowspan=\"6\" valign=\"top\">2000</th>\n",
       "      <th>Asia</th>\n",
       "      <td>182.100000</td>\n",
       "      <td>32.547059</td>\n",
       "      <td>61.779412</td>\n",
       "      <td>5.685294</td>\n",
       "    </tr>\n",
       "    <tr>\n",
       "      <th>Europa</th>\n",
       "      <td>1143.454545</td>\n",
       "      <td>19.158537</td>\n",
       "      <td>67.156098</td>\n",
       "      <td>13.692683</td>\n",
       "    </tr>\n",
       "    <tr>\n",
       "      <th>Las Americas</th>\n",
       "      <td>450.028571</td>\n",
       "      <td>31.481081</td>\n",
       "      <td>61.681081</td>\n",
       "      <td>6.837838</td>\n",
       "    </tr>\n",
       "    <tr>\n",
       "      <th>Oceania</th>\n",
       "      <td>349.454545</td>\n",
       "      <td>34.800000</td>\n",
       "      <td>59.900000</td>\n",
       "      <td>5.315385</td>\n",
       "    </tr>\n",
       "    <tr>\n",
       "      <th>Oriente Medio</th>\n",
       "      <td>427.846154</td>\n",
       "      <td>34.338462</td>\n",
       "      <td>61.946154</td>\n",
       "      <td>3.707692</td>\n",
       "    </tr>\n",
       "    <tr>\n",
       "      <th>africa</th>\n",
       "      <td>50.520000</td>\n",
       "      <td>42.490566</td>\n",
       "      <td>54.077358</td>\n",
       "      <td>3.430189</td>\n",
       "    </tr>\n",
       "    <tr>\n",
       "      <th rowspan=\"6\" valign=\"top\">2001</th>\n",
       "      <th>Asia</th>\n",
       "      <td>169.800000</td>\n",
       "      <td>31.935294</td>\n",
       "      <td>62.244118</td>\n",
       "      <td>5.811765</td>\n",
       "    </tr>\n",
       "    <tr>\n",
       "      <th>Europa</th>\n",
       "      <td>1177.045455</td>\n",
       "      <td>18.800000</td>\n",
       "      <td>67.319512</td>\n",
       "      <td>13.882927</td>\n",
       "    </tr>\n",
       "    <tr>\n",
       "      <th>Las Americas</th>\n",
       "      <td>463.228571</td>\n",
       "      <td>31.064865</td>\n",
       "      <td>62.016216</td>\n",
       "      <td>6.924324</td>\n",
       "    </tr>\n",
       "    <tr>\n",
       "      <th>Oceania</th>\n",
       "      <td>339.181818</td>\n",
       "      <td>34.484615</td>\n",
       "      <td>60.115385</td>\n",
       "      <td>5.392308</td>\n",
       "    </tr>\n",
       "    <tr>\n",
       "      <th>Oriente Medio</th>\n",
       "      <td>459.230769</td>\n",
       "      <td>33.961538</td>\n",
       "      <td>62.307692</td>\n",
       "      <td>3.738462</td>\n",
       "    </tr>\n",
       "    <tr>\n",
       "      <th>africa</th>\n",
       "      <td>50.360000</td>\n",
       "      <td>42.258491</td>\n",
       "      <td>54.309434</td>\n",
       "      <td>3.445283</td>\n",
       "    </tr>\n",
       "    <tr>\n",
       "      <th rowspan=\"6\" valign=\"top\">2002</th>\n",
       "      <th>Asia</th>\n",
       "      <td>169.612903</td>\n",
       "      <td>31.305882</td>\n",
       "      <td>62.744118</td>\n",
       "      <td>5.950000</td>\n",
       "    </tr>\n",
       "    <tr>\n",
       "      <th>Europa</th>\n",
       "      <td>1359.477273</td>\n",
       "      <td>18.436585</td>\n",
       "      <td>67.468293</td>\n",
       "      <td>14.097561</td>\n",
       "    </tr>\n",
       "    <tr>\n",
       "      <th>Las Americas</th>\n",
       "      <td>463.400000</td>\n",
       "      <td>30.643243</td>\n",
       "      <td>62.354054</td>\n",
       "      <td>7.008108</td>\n",
       "    </tr>\n",
       "    <tr>\n",
       "      <th>Oceania</th>\n",
       "      <td>376.454545</td>\n",
       "      <td>34.176923</td>\n",
       "      <td>60.361538</td>\n",
       "      <td>5.476923</td>\n",
       "    </tr>\n",
       "    <tr>\n",
       "      <th>Oriente Medio</th>\n",
       "      <td>449.076923</td>\n",
       "      <td>33.569231</td>\n",
       "      <td>62.676923</td>\n",
       "      <td>3.746154</td>\n",
       "    </tr>\n",
       "    <tr>\n",
       "      <th>africa</th>\n",
       "      <td>50.980000</td>\n",
       "      <td>42.018868</td>\n",
       "      <td>54.545283</td>\n",
       "      <td>3.447170</td>\n",
       "    </tr>\n",
       "    <tr>\n",
       "      <th rowspan=\"6\" valign=\"top\">2003</th>\n",
       "      <th>Asia</th>\n",
       "      <td>196.129032</td>\n",
       "      <td>30.644118</td>\n",
       "      <td>63.255882</td>\n",
       "      <td>6.105882</td>\n",
       "    </tr>\n",
       "    <tr>\n",
       "      <th>Europa</th>\n",
       "      <td>1704.250000</td>\n",
       "      <td>18.068293</td>\n",
       "      <td>67.619512</td>\n",
       "      <td>14.314634</td>\n",
       "    </tr>\n",
       "    <tr>\n",
       "      <th>Las Americas</th>\n",
       "      <td>493.542857</td>\n",
       "      <td>30.191892</td>\n",
       "      <td>62.713514</td>\n",
       "      <td>7.086486</td>\n",
       "    </tr>\n",
       "    <tr>\n",
       "      <th>Oceania</th>\n",
       "      <td>461.727273</td>\n",
       "      <td>33.830769</td>\n",
       "      <td>60.630769</td>\n",
       "      <td>5.546154</td>\n",
       "    </tr>\n",
       "    <tr>\n",
       "      <th>Oriente Medio</th>\n",
       "      <td>511.000000</td>\n",
       "      <td>33.107692</td>\n",
       "      <td>63.153846</td>\n",
       "      <td>3.746154</td>\n",
       "    </tr>\n",
       "    <tr>\n",
       "      <th>africa</th>\n",
       "      <td>61.040000</td>\n",
       "      <td>41.788679</td>\n",
       "      <td>54.771698</td>\n",
       "      <td>3.437736</td>\n",
       "    </tr>\n",
       "    <tr>\n",
       "      <th rowspan=\"4\" valign=\"top\">2004</th>\n",
       "      <th>Asia</th>\n",
       "      <td>215.580645</td>\n",
       "      <td>29.997059</td>\n",
       "      <td>63.761765</td>\n",
       "      <td>6.241176</td>\n",
       "    </tr>\n",
       "    <tr>\n",
       "      <th>Europa</th>\n",
       "      <td>1975.931818</td>\n",
       "      <td>17.736585</td>\n",
       "      <td>67.768293</td>\n",
       "      <td>14.512195</td>\n",
       "    </tr>\n",
       "    <tr>\n",
       "      <th>Las Americas</th>\n",
       "      <td>645.600000</td>\n",
       "      <td>30.014815</td>\n",
       "      <td>62.870370</td>\n",
       "      <td>7.125926</td>\n",
       "    </tr>\n",
       "    <tr>\n",
       "      <th>africa</th>\n",
       "      <td>73.460000</td>\n",
       "      <td>41.560377</td>\n",
       "      <td>54.988679</td>\n",
       "      <td>3.441509</td>\n",
       "    </tr>\n",
       "  </tbody>\n",
       "</table>\n",
       "</div>"
      ],
      "text/plain": [
       "                     Gasto en salud (per capita)  Poblacion 0-14  \\\n",
       "fecha Region                                                       \n",
       "2000  Asia                            182.100000       32.547059   \n",
       "      Europa                         1143.454545       19.158537   \n",
       "      Las Americas                    450.028571       31.481081   \n",
       "      Oceania                         349.454545       34.800000   \n",
       "      Oriente Medio                   427.846154       34.338462   \n",
       "      africa                           50.520000       42.490566   \n",
       "2001  Asia                            169.800000       31.935294   \n",
       "      Europa                         1177.045455       18.800000   \n",
       "      Las Americas                    463.228571       31.064865   \n",
       "      Oceania                         339.181818       34.484615   \n",
       "      Oriente Medio                   459.230769       33.961538   \n",
       "      africa                           50.360000       42.258491   \n",
       "2002  Asia                            169.612903       31.305882   \n",
       "      Europa                         1359.477273       18.436585   \n",
       "      Las Americas                    463.400000       30.643243   \n",
       "      Oceania                         376.454545       34.176923   \n",
       "      Oriente Medio                   449.076923       33.569231   \n",
       "      africa                           50.980000       42.018868   \n",
       "2003  Asia                            196.129032       30.644118   \n",
       "      Europa                         1704.250000       18.068293   \n",
       "      Las Americas                    493.542857       30.191892   \n",
       "      Oceania                         461.727273       33.830769   \n",
       "      Oriente Medio                   511.000000       33.107692   \n",
       "      africa                           61.040000       41.788679   \n",
       "2004  Asia                            215.580645       29.997059   \n",
       "      Europa                         1975.931818       17.736585   \n",
       "      Las Americas                    645.600000       30.014815   \n",
       "      africa                           73.460000       41.560377   \n",
       "\n",
       "                     Poblacion 15-64  Poblacion 65+  \n",
       "fecha Region                                         \n",
       "2000  Asia                 61.779412       5.685294  \n",
       "      Europa               67.156098      13.692683  \n",
       "      Las Americas         61.681081       6.837838  \n",
       "      Oceania              59.900000       5.315385  \n",
       "      Oriente Medio        61.946154       3.707692  \n",
       "      africa               54.077358       3.430189  \n",
       "2001  Asia                 62.244118       5.811765  \n",
       "      Europa               67.319512      13.882927  \n",
       "      Las Americas         62.016216       6.924324  \n",
       "      Oceania              60.115385       5.392308  \n",
       "      Oriente Medio        62.307692       3.738462  \n",
       "      africa               54.309434       3.445283  \n",
       "2002  Asia                 62.744118       5.950000  \n",
       "      Europa               67.468293      14.097561  \n",
       "      Las Americas         62.354054       7.008108  \n",
       "      Oceania              60.361538       5.476923  \n",
       "      Oriente Medio        62.676923       3.746154  \n",
       "      africa               54.545283       3.447170  \n",
       "2003  Asia                 63.255882       6.105882  \n",
       "      Europa               67.619512      14.314634  \n",
       "      Las Americas         62.713514       7.086486  \n",
       "      Oceania              60.630769       5.546154  \n",
       "      Oriente Medio        63.153846       3.746154  \n",
       "      africa               54.771698       3.437736  \n",
       "2004  Asia                 63.761765       6.241176  \n",
       "      Europa               67.768293      14.512195  \n",
       "      Las Americas         62.870370       7.125926  \n",
       "      africa               54.988679       3.441509  "
      ]
     },
     "execution_count": 21,
     "metadata": {},
     "output_type": "execute_result"
    }
   ],
   "source": [
    "region_gasto"
   ]
  },
  {
   "cell_type": "code",
   "execution_count": 15,
   "metadata": {},
   "outputs": [
    {
     "data": {
      "image/png": "[encoded data removed]",
      "text/plain": [
       "<Figure size 1080x720 with 6 Axes>"
      ]
     },
     "metadata": {
      "needs_background": "light"
     },
     "output_type": "display_data"
    }
   ],
   "source": [
    "#Punto 1\n",
    "aux1, aux2 = plt.subplots(1,6,sharey=True,figsize=(15,10))\n",
    "\n",
    "\n",
    "for i,x in enumerate(aux2):\n",
    "    \n",
    "    aux2[i].scatter(list(region_poblacion.keys()),\n",
    "                   region_poblacion.T[region_poblacion.index[i]],\n",
    "                   edgecolor=['black','darkorange','red'],\n",
    "                   marker='o',\n",
    "                   s=400, \n",
    "                   color = ['white']*3,\n",
    "                   linewidths=2,\n",
    "                  )\n",
    "    aux2[i].set_xticklabels(list(region_poblacion.keys()),rotation='vertical')\n",
    "    aux2[i].set_title(region_poblacion.index[i]);\n",
    "    \n",
    "\n",
    "    \n",
    "plt.subplots_adjust(wspace=0, hspace=0)\n",
    "plt.text(-5,163,'Region',size='x-large'); "
   ]
  },
  {
   "cell_type": "code",
   "execution_count": 16,
   "metadata": {},
   "outputs": [
    {
     "data": {
      "text/plain": [
       "Text(-7, 160, 'Region')"
      ]
     },
     "execution_count": 16,
     "metadata": {},
     "output_type": "execute_result"
    },
    {
     "data": {
      "image/png": "[encoded data removed]",
      "text/plain": [
       "<Figure size 1440x720 with 6 Axes>"
      ]
     },
     "metadata": {
      "needs_background": "light"
     },
     "output_type": "display_data"
    }
   ],
   "source": [
    "#punto 2\n",
    "aux1, aux2 = plt.subplots(1,6,sharey=True,figsize=(20,10))\n",
    "\n",
    "\n",
    "for i,x in enumerate(aux2):\n",
    "    \n",
    "    aux2[i].bar(list(region_poblacion.keys()), \n",
    "               region_poblacion.T[region_poblacion.index[i]],\n",
    "               color=['black','darkorange','red'] \n",
    "              )\n",
    "    aux2[i].set_xticklabels(list(region_poblacion.keys()),rotation='vertical')\n",
    "    aux2[i].set_title(region_poblacion.index[i]); \n",
    "    \n",
    "\n",
    "plt.subplots_adjust(wspace=0, hspace=0)\n",
    "plt.text(-7,160,'Region',size='x-large')"
   ]
  },
  {
   "cell_type": "code",
   "execution_count": 18,
   "metadata": {},
   "outputs": [
    {
     "data": {
      "image/png": "[encoded data removed]",
      "text/plain": [
       "<Figure size 576x504 with 3 Axes>"
      ]
     },
     "metadata": {
      "needs_background": "light"
     },
     "output_type": "display_data"
    }
   ],
   "source": [
    "#punto 3 \n",
    "\n",
    "aux, aux1 = plt.subplots(3,1,sharex=True,figsize=(8,7))\n",
    "\n",
    "\n",
    "c=['blue','darkorange','green']\n",
    "pos = [68,90,18]\n",
    "t=[[0,50,100],[0,50,100,150],[0,10,20,30]] \n",
    "\n",
    "\n",
    "for i,x in enumerate(aux1):\n",
    "    \n",
    "    aux1[i].bar(region_poblacion.index,\n",
    "               region_poblacion[list(region_poblacion.keys())[i]], \n",
    "               color=c[i]\n",
    "              )\n",
    "    aux1[i].set_xticklabels(region_poblacion.index,rotation='vertical')\n",
    "    aux1[i].set_yticks(t[i])\n",
    "    aux1[i].text(-1.2,pos[i],'valor',rotation='vertical')\n",
    "    aux1[i].set_ylabel(region_poblacion.keys()[i],rotation='horizontal',labelpad=60);\n",
    "    \n",
    "\n",
    "    \n",
    "plt.subplots_adjust(wspace=0, hspace=0.05)\n",
    "plt.text(2,100,'Region',size='x-large');"
   ]
  },
  {
   "cell_type": "code",
   "execution_count": 22,
   "metadata": {},
   "outputs": [
    {
     "data": {
      "image/png": "[encoded data removed]",
      "text/plain": [
       "<Figure size 432x288 with 1 Axes>"
      ]
     },
     "metadata": {
      "needs_background": "light"
     },
     "output_type": "display_data"
    }
   ],
   "source": [
    "# Punto 4\n",
    "puntos = dict(marker='o', markerfacecolor='b', markersize=10,\n",
    "              linestyle='none', markeredgecolor='b',\n",
    "             ) \n",
    "cajas = dict(linewidth=2, color='black')\n",
    "bigotes = dict(linewidth=2, linestyle='solid', color='black')\n",
    "media = dict(color='black', linewidth=10) \n",
    "\n",
    "\n",
    "region_gasto['Gasto en salud (per capita)'].unstack().T.boxplot(grid=False,\n",
    "                                                         flierprops=puntos,\n",
    "                                                         boxprops = cajas,\n",
    "                                                         whiskerprops = bigotes, \n",
    "                                                         meanprops = media, \n",
    "                                                        )\n",
    "\n",
    "plt.ylabel('Prom. Gasto en salud (per capita)');"
   ]
  },
  {
   "cell_type": "code",
   "execution_count": 23,
   "metadata": {
    "scrolled": true
   },
   "outputs": [
    {
     "data": {
      "image/png": "[encoded data removed]",
      "text/plain": [
       "<Figure size 720x864 with 18 Axes>"
      ]
     },
     "metadata": {
      "needs_background": "light"
     },
     "output_type": "display_data"
    }
   ],
   "source": [
    "# Parametros iniciales\n",
    "ticks2= [[0.0, 0.1, 0.2, 0.3,0.4], [0.0, 0.2, 0.4, 0.6], [0.0, 0.05, 0.1, 0.15],]\n",
    "limites = [[0,0.5],[0,0.7],[0,0.2]]\n",
    "\n",
    "# Contenedor\n",
    "fig, axs = plt.subplots(3,6,sharex='col',sharey='row',figsize=(10,12))\n",
    "plt.subplots_adjust(wspace=0, hspace=0)\n",
    "\n",
    "# Iterador\n",
    "for i,pobl in enumerate(region_gasto.keys()[1:]):\n",
    "    \n",
    "    for j,reg in enumerate(region_gasto.unstack()['Poblacion 0-14'].keys()):\n",
    "        \n",
    "        axs[i,j].plot(region_gasto.unstack()[pobl][reg]/100) \n",
    "        axs[2,j].set_xbound(1999,2005)\n",
    "        axs[i,0].set_ybound(limites[i])\n",
    "        axs[2,j].set_xticks([2000,2001,2002,2003,2004]) \n",
    "        axs[2,j].set_xticklabels(list(range(2000,2005,1)),rotation='vertical')\n",
    "        axs[0,j].set_title(reg) \n",
    "        axs[i,0].set_yticks(ticks2[i]) \n",
    "        axs[i,0].set_yticklabels(ticks2[i])\n",
    "        axs[i,0].set_ylabel(pobl + ' (%)')"
   ]
  },
  {
   "cell_type": "code",
   "execution_count": null,
   "metadata": {},
   "outputs": [],
   "source": []
  }
 ],
 "metadata": {
  "kernel_info": {
   "name": "python3"
  },
  "kernelspec": {
   "display_name": "Python 3",
   "language": "python",
   "name": "python3"
  },
  "language_info": {
   "codemirror_mode": {
    "name": "ipython",
    "version": 3
   },
   "file_extension": ".py",
   "mimetype": "text/x-python",
   "name": "python",
   "nbconvert_exporter": "python",
   "pygments_lexer": "ipython3",
   "version": "3.6.8"
  },
  "nteract": {
   "version": "0.7.1"
  },
  "varInspector": {
   "cols": {
    "lenName": 16,
    "lenType": 16,
    "lenVar": 40
   },
   "kernels_config": {
    "python": {
     "delete_cmd_postfix": "",
     "delete_cmd_prefix": "del ",
     "library": "var_list.py",
     "varRefreshCmd": "print(var_dic_list())"
    },
    "r": {
     "delete_cmd_postfix": ") ",
     "delete_cmd_prefix": "rm(",
     "library": "var_list.r",
     "varRefreshCmd": "cat(var_dic_list()) "
    }
   },
   "types_to_exclude": [
    "module",
    "function",
    "builtin_function_or_method",
    "instance",
    "_Feature"
   ],
   "window_display": false
  }
 },
 "nbformat": 4,
 "nbformat_minor": 4
}
